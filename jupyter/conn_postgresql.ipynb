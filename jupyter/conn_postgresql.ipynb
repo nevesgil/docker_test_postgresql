{
 "cells": [
  {
   "cell_type": "code",
   "execution_count": 3,
   "id": "d1a4055a-c3ca-4420-9b43-9be349ab5ff1",
   "metadata": {},
   "outputs": [],
   "source": [
    "import psycopg2"
   ]
  },
  {
   "cell_type": "code",
   "execution_count": 4,
   "id": "b39dc7d1-9d3c-402e-8644-20e211bac925",
   "metadata": {},
   "outputs": [],
   "source": [
    "connection = psycopg2.connect(\n",
    "    host=\"postgresql\",\n",
    "    port=5432,\n",
    "    dbname=\"test\",\n",
    "    user=\"gilmar\",\n",
    "    password=\"gilmar\"\n",
    ")"
   ]
  },
  {
   "cell_type": "code",
   "execution_count": 5,
   "id": "121a36cb-51d6-4694-a10c-59b8eb050014",
   "metadata": {},
   "outputs": [],
   "source": [
    "cursor = connection.cursor()"
   ]
  },
  {
   "cell_type": "code",
   "execution_count": 6,
   "id": "a55da77b-b6cf-4b29-9472-f93aa5c54d65",
   "metadata": {},
   "outputs": [],
   "source": [
    "cursor.execute(\"SELECT * FROM test_table;\")"
   ]
  },
  {
   "cell_type": "code",
   "execution_count": 8,
   "id": "8f54815d-5b62-4019-9631-cfca0eaa5ada",
   "metadata": {},
   "outputs": [
    {
     "data": {
      "text/plain": [
       "[('7fdbac6f972d9f369ba6f9c820827fd4',),\n",
       " ('6d5d799febff20267e22fe61ef0ae62d',),\n",
       " ('3db922c98ce129b57f308fc03d7c1cdf',),\n",
       " ('eb92c45586773af35adfa3a2087ab7fd',),\n",
       " ('4283d1fad6249ec0650723b465e1c606',),\n",
       " ('7e754f4d66e1a365d91bcbb3e43d60b8',),\n",
       " ('234a29c5fe7676ac40a948243ca24563',),\n",
       " ('8159b05c902b3db4570a38a2ee4fd8b9',),\n",
       " ('cc222d1ec34a678f0a6b890f90c02251',),\n",
       " ('ee068806da5191ae149d944b961180b7',)]"
      ]
     },
     "execution_count": 8,
     "metadata": {},
     "output_type": "execute_result"
    }
   ],
   "source": [
    "cursor.fetchall()"
   ]
  },
  {
   "cell_type": "code",
   "execution_count": null,
   "id": "95d45f58-794e-46dd-92cc-f84dc4505ffa",
   "metadata": {},
   "outputs": [],
   "source": []
  }
 ],
 "metadata": {
  "kernelspec": {
   "display_name": "Python 3 (ipykernel)",
   "language": "python",
   "name": "python3"
  },
  "language_info": {
   "codemirror_mode": {
    "name": "ipython",
    "version": 3
   },
   "file_extension": ".py",
   "mimetype": "text/x-python",
   "name": "python",
   "nbconvert_exporter": "python",
   "pygments_lexer": "ipython3",
   "version": "3.8.18"
  }
 },
 "nbformat": 4,
 "nbformat_minor": 5
}
